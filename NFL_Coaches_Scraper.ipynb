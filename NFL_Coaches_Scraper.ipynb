{
 "cells": [
  {
   "cell_type": "code",
   "execution_count": 4,
   "metadata": {
    "collapsed": false
   },
   "outputs": [],
   "source": [
    "import time\n",
    "from bs4 import BeautifulSoup\n",
    "import re\n",
    "import requests\n",
    "import pandas as pd\n",
    "from pandas import Series\n",
    "from urllib import urlopen"
   ]
  },
  {
   "cell_type": "code",
   "execution_count": 5,
   "metadata": {
    "collapsed": true
   },
   "outputs": [],
   "source": [
    "##File with Teams/URLs to fetch\n",
    "##CSV with a two columns(Link,Team_Name)\n",
    "##Link is the location where the coach data is located\n",
    "##Team is the name of the team the script is looking up\n",
    "nfldata = pd.read_csv('nflstats.csv')"
   ]
  },
  {
   "cell_type": "code",
   "execution_count": 6,
   "metadata": {
    "collapsed": true
   },
   "outputs": [],
   "source": [
    "#Grabs the HTML table for each Link and appends them together\n",
    "def footballquery(data):\n",
    "    for i in range(1,32):\n",
    "        html = urlopen(data.Link[i])\n",
    "        soup = BeautifulSoup(''.join(html))\n",
    "        table = soup.find('table',{'class':'sortable stats_table','id':'executives'})\n",
    "        all_columns = []\n",
    "        for row in table.findAll('tr'):\n",
    "            col = row.findAll('td')\n",
    "            columns = [c.getText().strip() for c in col]\n",
    "            if(columns):\n",
    "                all_columns.append(columns)\n",
    "        df = pd.DataFrame(all_columns)\n",
    "        df['Team'] = data.Team_Name[i]\n",
    "        if i==1:\n",
    "            full = df\n",
    "        else:\n",
    "            full = full.append(df)\n",
    "    return full"
   ]
  },
  {
   "cell_type": "code",
   "execution_count": 7,
   "metadata": {
    "collapsed": true
   },
   "outputs": [],
   "source": [
    "##Grab the results and clear the index for the df\n",
    "results = footballquery(nfldata)\n",
    "results = results.reset_index(drop=True)"
   ]
  },
  {
   "cell_type": "code",
   "execution_count": 8,
   "metadata": {
    "collapsed": false
   },
   "outputs": [],
   "source": [
    "##Need to add rows for each of the coordinators, since they are currently on the same line as the heach coach\n",
    "s = results[16].str.split('C:').apply(Series, 0).stack()\n",
    "s.index = s.index.droplevel(-1)\n",
    "s.name = 'CoachType'\n",
    "s\n",
    "final = results.join(s)\n",
    "final = final.reset_index(drop=True)"
   ]
  },
  {
   "cell_type": "code",
   "execution_count": 9,
   "metadata": {
    "collapsed": false
   },
   "outputs": [],
   "source": [
    "###Now we just need to clean up coordinators with their appropriate titles\n",
    "N = len(final)\n",
    "for i in range(0,N):\n",
    "    if final.CoachType[i] == \"O\" or final.CoachType[i] == \"\":\n",
    "        final.CoachType[i] = \"Head\"\n",
    "    if final.CoachType[i] == 'D':\n",
    "        final.CoachType[i] = \"Head\"\n",
    "    if final.CoachType[i].endswith('D'):\n",
    "            temp = final.CoachType[i][:-1].lstrip()\n",
    "            final[1][i] = temp\n",
    "            final.CoachType[i]= \"Offensive\"\n",
    "    else:\n",
    "            if final.CoachType[i] != \"Head\":\n",
    "                if 'OC' in final[16][i] and 'DC' in final[16][i]:\n",
    "                        temp = final.CoachType[i].lstrip()\n",
    "                        final[1][i] = temp\n",
    "                        final.CoachType[i]= \"Defensive\"\n",
    "                else:\n",
    "                    if final[16][i].startswith('OC'):\n",
    "                        temp = final.CoachType[i].lstrip()\n",
    "                        final[1][i] = temp\n",
    "                        final.CoachType[i]= \"Offensive\"\n",
    "                    else:\n",
    "                        if final[16][i].startswith('DC'):\n",
    "                            temp = final.CoachType[i].lstrip()\n",
    "                            final[1][i] = temp\n",
    "                            final.CoachType[i]= \"Defensive\""
   ]
  },
  {
   "cell_type": "code",
   "execution_count": 10,
   "metadata": {
    "collapsed": false
   },
   "outputs": [],
   "source": [
    "final.columns = ['year','coach','G','W','L','T','W-L%','G>.500','YR plyf','G plyf','W plyf','L plyf','W-L%','Chmp','SBwl','Conf','Coodinators','Team','CoachTitle']"
   ]
  },
  {
   "cell_type": "code",
   "execution_count": 11,
   "metadata": {
    "collapsed": false
   },
   "outputs": [],
   "source": [
    "#Save the table to a csv\n",
    "final.to_csv('final.csv')"
   ]
  }
 ],
 "metadata": {
  "kernelspec": {
   "display_name": "Python 2",
   "language": "python",
   "name": "python2"
  },
  "language_info": {
   "codemirror_mode": {
    "name": "ipython",
    "version": 2
   },
   "file_extension": ".py",
   "mimetype": "text/x-python",
   "name": "python",
   "nbconvert_exporter": "python",
   "pygments_lexer": "ipython2",
   "version": "2.7.9"
  }
 },
 "nbformat": 4,
 "nbformat_minor": 0
}
